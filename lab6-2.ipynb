{
 "cells": [
  {
   "cell_type": "code",
   "execution_count": 32,
   "metadata": {},
   "outputs": [],
   "source": [
    "def Salary (name, sa ,ot):\n",
    "    if(ot >= 40):\n",
    "        money_ot = ot * 150\n",
    "    else:\n",
    "        money_ot = ot * 100\n",
    "    total = sa + money_ot\n",
    "\n",
    "    print(\"ชื่อพนักงาน: %s \" % name )\n",
    "    print(\"เงินเดือน: %.2f \" % sa )\n",
    "    print(\"ล่วงเวลา: %.2f \" % ot )\n",
    "    print(\"ค่าล่วงเวลา: %.2f \" % money_ot )\n",
    "    print(\"รวม: %.2f \" % total )\n",
    "\n",
    "    name = input (\"ชื่อพนักงาน\")\n",
    "    sa = int(input (\"เงินเดือน\"))\n",
    "    ot = int(input (\"ค่าล่วงเวลา\"))\n",
    "    Salary(name, sa ,ot)"
   ]
  }
 ],
 "metadata": {
  "language_info": {
   "name": "python"
  }
 },
 "nbformat": 4,
 "nbformat_minor": 2
}
